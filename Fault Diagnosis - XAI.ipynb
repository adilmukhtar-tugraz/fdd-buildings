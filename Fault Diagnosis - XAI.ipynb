{
 "cells": [
  {
   "cell_type": "code",
   "execution_count": 1,
   "id": "ceae8caa-7ffe-453f-841e-f3c1971a4f00",
   "metadata": {},
   "outputs": [],
   "source": [
    "import joblib\n",
    "import pandas as pd\n",
    "import numpy as np\n",
    "from matplotlib import pyplot as plt\n",
    "import warnings\n",
    "warnings.filterwarnings(\"ignore\")\n",
    "import json"
   ]
  },
  {
   "cell_type": "code",
   "execution_count": 14,
   "id": "c07f879f-5e8f-4778-acf0-64ab5ffe6d5d",
   "metadata": {},
   "outputs": [],
   "source": [
    "def load_models(minmax_path, lof_path, kmeans_path, labels_path, cluster_model_base_name):\n",
    "\n",
    "    # load minmax scaler for fault detection\n",
    "    minmax_scaler = joblib.load(minmax_path)\n",
    "\n",
    "    #load LOF (local outlier factor) model\n",
    "    lof_fault_detection = joblib.load(lof_path)\n",
    "    \n",
    "    # Load KMeans model\n",
    "    loaded_kmeans = joblib.load(kmeans_path)\n",
    "    \n",
    "    # Load cluster labels\n",
    "    loaded_labels = np.load()\n",
    "\n",
    "    # load models trained on each cluster\n",
    "    cluster_models = {}\n",
    "    for cluster in set(loaded_labels):\n",
    "        cluster_models[cluster] = joblib.load(cluster_model_base_name+str(cluster)+'.joblib')\n",
    "\n",
    "    return minmax_scaler, lof_fault_detection, loaded_kmeans, cluster_models"
   ]
  },
  {
   "cell_type": "code",
   "execution_count": 15,
   "id": "e0aeab05-32dd-43ab-9917-1263240edbe0",
   "metadata": {},
   "outputs": [],
   "source": [
    "minmax_path = 'models/minmax_model_5T.pkl'\n",
    "lof_path = 'models/lof_model_5T.pkl'\n",
    "kmeans_path = 'models/kmean_model.joblib'\n",
    "labels_path = 'models/cluster_labels.npy'\n",
    "cluster_model_base_name = 'models/logit_reg_cluster_'\n",
    "model_mixmax_lof, model_lof_fault_detection, model_kmeans, model_cluster_models = load_models()"
   ]
  },
  {
   "cell_type": "code",
   "execution_count": null,
   "id": "fca769f4-6ab7-4151-b487-5e7235041b66",
   "metadata": {},
   "outputs": [],
   "source": []
  }
 ],
 "metadata": {
  "kernelspec": {
   "display_name": "Python 3 (ipykernel)",
   "language": "python",
   "name": "python3"
  },
  "language_info": {
   "codemirror_mode": {
    "name": "ipython",
    "version": 3
   },
   "file_extension": ".py",
   "mimetype": "text/x-python",
   "name": "python",
   "nbconvert_exporter": "python",
   "pygments_lexer": "ipython3",
   "version": "3.10.13"
  }
 },
 "nbformat": 4,
 "nbformat_minor": 5
}
