{
 "cells": [
  {
   "cell_type": "code",
   "execution_count": null,
   "id": "2c3021dd-af5d-449b-a981-ecf68364abee",
   "metadata": {},
   "outputs": [],
   "source": [
    "import numpy as np\n",
    "import pandas as pd\n",
    "from matplotlib import pyplot as plt\n",
    "import warnings\n",
    "warnings.filterwarnings('ignore')"
   ]
  },
  {
   "cell_type": "code",
   "execution_count": null,
   "id": "7aff3abf-2fa2-4b70-95a1-cd4c2d7a3f1c",
   "metadata": {},
   "outputs": [],
   "source": [
    "def load_data(file_name):\n",
    "    df = pd.read_csv('dataset/LBNL_FDD_Dataset_SDAHU_all_3/LBNL_FDD_Dataset_SDAHU/'+file_name, index_col='Datetime')\n",
    "    return df"
   ]
  },
  {
   "cell_type": "code",
   "execution_count": null,
   "id": "9e7272a0-854a-4491-90a0-85c5d18dd34b",
   "metadata": {},
   "outputs": [],
   "source": [
    "df_correct_data = load_data('AHU_annual.csv')"
   ]
  },
  {
   "cell_type": "code",
   "execution_count": null,
   "id": "2e50dc03-4305-4dba-ab40-f840f6bb1caf",
   "metadata": {},
   "outputs": [],
   "source": [
    "df_damper_stuck_010 = load_data('damper_stuck_010_annual.csv')\n",
    "df_damper_stuck_025 = load_data('damper_stuck_025_annual.csv')\n",
    "df_damper_stuck_075 = load_data('damper_stuck_075_annual.csv')\n",
    "df_damper_stuck_100 = load_data('damper_stuck_100_annual_short.csv')"
   ]
  },
  {
   "cell_type": "code",
   "execution_count": null,
   "id": "92c3243b-f0e3-47e4-b4e4-c41152d78193",
   "metadata": {},
   "outputs": [],
   "source": [
    "sa_bias_minus2 = load_data('sa_bias_-2_annual.csv')\n",
    "sa_bias_minus4 = load_data('sa_bias_-4_annual.csv')\n",
    "sa_bias_2 = load_data('sa_bias_4_annual.csv')\n",
    "sa_bias_4 = load_data('sa_bias_4_annual.csv')"
   ]
  },
  {
   "cell_type": "code",
   "execution_count": null,
   "id": "4d659956-c7cd-4e94-ba35-c9ccf2de6816",
   "metadata": {},
   "outputs": [],
   "source": [
    "df_damper_stuck_010['fault'] = [1]*len(df_damper_stuck_010)\n",
    "df_damper_stuck_025['fault'] = [1]*len(df_damper_stuck_025)\n",
    "df_damper_stuck_075['fault'] = [1]*len(df_damper_stuck_075)\n",
    "df_damper_stuck_100['fault'] = [1]*len(df_damper_stuck_100)"
   ]
  },
  {
   "cell_type": "code",
   "execution_count": null,
   "id": "ae25b1c6-fe53-4167-af49-e9f839fb4ccd",
   "metadata": {},
   "outputs": [],
   "source": [
    "correlation_matrix = df_correct_data.corr()\n",
    "sns.heatmap(correlation_matrix, annot=True, cmap='coolwarm', fmt=\".2f\")\n",
    "plt.title('Correlation Matrix')\n",
    "plt.show()"
   ]
  },
  {
   "cell_type": "code",
   "execution_count": null,
   "id": "c1604785-81af-46dd-afab-ff2f53c3e705",
   "metadata": {},
   "outputs": [],
   "source": [
    "def histplot_helper(cols, df):\n",
    "    # select the columns to be plotted\n",
    "    #cols = list(df_log.keys())\n",
    "    #cols.remove('LABEL')\n",
    "\n",
    "    # create the figure and axes\n",
    "    fig, axes = plt.subplots(2, 3)\n",
    "    axes = axes.ravel()  # flattening the array makes indexing easier\n",
    "\n",
    "    for col, ax in zip(cols, axes):\n",
    "        sns.histplot(data=df, x = col, kde=True, stat='density', ax=ax, hue='fault')\n",
    "\n",
    "    fig.tight_layout()\n",
    "    plt.show()"
   ]
  },
  {
   "cell_type": "code",
   "execution_count": null,
   "id": "ecaaa30b-4a74-4ff1-9c4e-ed7f4a0412fd",
   "metadata": {},
   "outputs": [],
   "source": [
    "feature = list(set(pd.concat([df_correct_data, df_damper_stuck_010]).keys()))"
   ]
  },
  {
   "cell_type": "code",
   "execution_count": null,
   "id": "b16e1611-c4da-42eb-a408-e874f0655e76",
   "metadata": {},
   "outputs": [],
   "source": [
    "histplot_helper(feature[0:5], pd.concat([df_correct_data, df_damper_stuck_010]))"
   ]
  },
  {
   "cell_type": "code",
   "execution_count": null,
   "id": "c354b437-732f-4b2b-afe2-22e9f660b68b",
   "metadata": {},
   "outputs": [],
   "source": [
    "histplot_helper(feature[5:10], pd.concat([df_correct_data, df_damper_stuck_010]))"
   ]
  },
  {
   "cell_type": "code",
   "execution_count": null,
   "id": "fee93c5b-fcf4-4dc3-9930-e12984ab5cd7",
   "metadata": {},
   "outputs": [],
   "source": [
    "histplot_helper(feature[10:15], pd.concat([df_correct_data, df_damper_stuck_010]))"
   ]
  },
  {
   "cell_type": "code",
   "execution_count": null,
   "id": "cccf4144-c331-4bd3-8a16-42664ff530cb",
   "metadata": {},
   "outputs": [],
   "source": [
    "histplot_helper(feature[15:20], pd.concat([df_correct_data, df_damper_stuck_010]))"
   ]
  },
  {
   "cell_type": "code",
   "execution_count": null,
   "id": "0f137425-61a7-43b0-96fa-48730a3ecd2a",
   "metadata": {},
   "outputs": [],
   "source": [
    "histplot_helper(feature[20:25], pd.concat([df_correct_data, df_damper_stuck_010]))"
   ]
  },
  {
   "cell_type": "code",
   "execution_count": null,
   "id": "abe6717a-9240-43ce-ab0e-e40a3dd3713a",
   "metadata": {},
   "outputs": [],
   "source": [
    "histplot_helper(feature[25:30], pd.concat([df_correct_data, df_damper_stuck_010]))"
   ]
  },
  {
   "cell_type": "code",
   "execution_count": null,
   "id": "4371a8c4-cb46-4098-bd90-6e631b3271cc",
   "metadata": {
    "scrolled": true
   },
   "outputs": [],
   "source": [
    "from sklearn.feature_selection import VarianceThreshold\n",
    "\n",
    "def remove_low_variance_features(df, threshold=0.1):\n",
    "    \"\"\"\n",
    "    Prints the variance of each feature and removes features with variance below the threshold.\n",
    "\n",
    "    Parameters:\n",
    "    - df: pandas DataFrame\n",
    "        The input DataFrame with features.\n",
    "    - threshold: float, optional (default=0.1)\n",
    "        The threshold below which features will be removed.\n",
    "\n",
    "    Returns:\n",
    "    - df_filtered: pandas DataFrame\n",
    "        The DataFrame with low variance features removed.\n",
    "    \"\"\"\n",
    "    # Calculate variance for each feature\n",
    "    feature_variances = df.var()\n",
    "\n",
    "    # Print the variance of each feature\n",
    "    print(\"Feature Variances:\")\n",
    "    print(feature_variances)\n",
    "\n",
    "    # Create a VarianceThreshold instance\n",
    "    variance_threshold = VarianceThreshold(threshold=threshold)\n",
    "\n",
    "    # Fit and transform the data to remove low variance features\n",
    "    df_filtered = pd.DataFrame(variance_threshold.fit_transform(df), columns=df.columns[feature_variances >= threshold])\n",
    "\n",
    "    # Print the selected features\n",
    "    selected_features = df.columns[feature_variances >= threshold]\n",
    "    print(f\"\\nSelected Features (with variance >= {threshold}):\")\n",
    "    print(selected_features)\n",
    "\n",
    "    return df_filtered\n",
    "\n",
    "# Example Usage:\n",
    "# Assuming df is your DataFrame\n",
    "# Adjust the threshold as needed\n",
    "df_filtered = remove_low_variance_features(df_correct_data, threshold=0.1)"
   ]
  },
  {
   "cell_type": "code",
   "execution_count": null,
   "id": "7775aba3-0980-4f12-a9f1-51eb74ef9301",
   "metadata": {},
   "outputs": [],
   "source": [
    "for key in df_filtered:\n",
    "    print(key)\n",
    "    plt.plot(df_filtered[key].values, 'g')\n",
    "    plt.plot(df_damper_stuck_010[key].values, 'r')\n",
    "    plt.show()"
   ]
  },
  {
   "cell_type": "code",
   "execution_count": null,
   "id": "73ccd2c0-af62-4844-9039-a041bfdfe257",
   "metadata": {},
   "outputs": [],
   "source": [
    "selected_features = ['MA_TEMP', 'RA_TEMP', 'RF_WAT']"
   ]
  },
  {
   "cell_type": "code",
   "execution_count": null,
   "id": "14568dfa-d0ca-4f78-8e77-550441b50aaa",
   "metadata": {},
   "outputs": [],
   "source": [
    "df_filtered_features_selected = df_filtered[selected_features]"
   ]
  },
  {
   "cell_type": "code",
   "execution_count": null,
   "id": "cf669c8b-9ade-4384-86b6-c1257949476a",
   "metadata": {},
   "outputs": [],
   "source": []
  },
  {
   "cell_type": "code",
   "execution_count": null,
   "id": "66f84e4f-0585-44ba-a2e2-5a0e6d0861b7",
   "metadata": {},
   "outputs": [],
   "source": [
    "df_filtered_features_selected.to_csv('df_correct_features_selected.csv')"
   ]
  },
  {
   "cell_type": "code",
   "execution_count": null,
   "id": "88e866ee-a6ad-46eb-88f9-554e0708dd66",
   "metadata": {},
   "outputs": [],
   "source": [
    "df_filtered_features_selected.describe()"
   ]
  },
  {
   "cell_type": "code",
   "execution_count": null,
   "id": "31c7cee9-a456-4efa-8140-a4f383d3b102",
   "metadata": {},
   "outputs": [],
   "source": [
    "df_damper_stuck_025[selected_features].describe()"
   ]
  },
  {
   "cell_type": "code",
   "execution_count": null,
   "id": "0056b71b-134b-4f59-a53e-4212b3b82e4d",
   "metadata": {},
   "outputs": [],
   "source": [
    "plt.plot(df_correct_data['MA_TEMP'])"
   ]
  },
  {
   "cell_type": "code",
   "execution_count": null,
   "id": "daf93cbc-8b21-4217-a49d-44e373d96b40",
   "metadata": {},
   "outputs": [],
   "source": []
  }
 ],
 "metadata": {
  "kernelspec": {
   "display_name": "Python 3 (ipykernel)",
   "language": "python",
   "name": "python3"
  },
  "language_info": {
   "codemirror_mode": {
    "name": "ipython",
    "version": 3
   },
   "file_extension": ".py",
   "mimetype": "text/x-python",
   "name": "python",
   "nbconvert_exporter": "python",
   "pygments_lexer": "ipython3",
   "version": "3.11.7"
  }
 },
 "nbformat": 4,
 "nbformat_minor": 5
}
