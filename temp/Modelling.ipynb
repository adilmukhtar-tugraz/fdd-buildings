{
 "cells": [
  {
   "cell_type": "code",
   "execution_count": 1,
   "id": "0279e573-1895-4f2a-b62d-8eab9e58c74b",
   "metadata": {},
   "outputs": [],
   "source": [
    "import pandas as pd\n",
    "import numpy as np\n",
    "from matplotlib import pyplot as plt\n",
    "import warnings\n",
    "warnings.filterwarnings('ignore')\n",
    "from sklearn.cluster import DBSCAN, KMeans\n",
    "from sklearn.metrics import adjusted_rand_score\n",
    "from sklearn.preprocessing import StandardScaler\n",
    "from sklearn.metrics import classification_report\n",
    "\n",
    "from sklearn.svm import OneClassSVM\n",
    "from sklearn.ensemble import IsolationForest\n",
    "from sklearn.covariance import EllipticEnvelope\n",
    "from sklearn.neighbors import LocalOutlierFactor\n",
    "\n",
    "from scipy.stats import kurtosis\n",
    "from sklearn.ensemble import VotingClassifier\n",
    "from sklearn.metrics import confusion_matrix, ConfusionMatrixDisplay\n",
    "from sklearn.model_selection import GridSearchCV\n",
    "\n",
    "def evaluate_model(y_true, y_pred):\n",
    "    tn, fp, fn, tp = confusion_matrix(y_true, y_pred).ravel()\n",
    "    print('True Positive:', tp)\n",
    "    print('True Negatives:', tn)\n",
    "    print('False Positive:', fp)\n",
    "    print('False Negatives:', fn)\n",
    "\n",
    "    precision = tp / (tp+fp)\n",
    "    recall = tp / (tp+fn)\n",
    "    f1 = (2 * precision * recall) / (precision + recall)\n",
    "    accuracy = (tp + tn) / (tp + tn + fp + fn)\n",
    "    print('Precision:', precision)\n",
    "    print('Recall:', recall)\n",
    "    print('F1:', f1)\n",
    "    print('Accuracy:', accuracy)"
   ]
  },
  {
   "cell_type": "code",
   "execution_count": 2,
   "id": "02212206-becb-4834-9284-606897e9d146",
   "metadata": {},
   "outputs": [],
   "source": [
    "def load_data(file_name):\n",
    "    df = pd.read_csv('dataset/LBNL_FDD_Dataset_SDAHU_all_3/LBNL_FDD_Dataset_SDAHU/'+file_name)\n",
    "    return df"
   ]
  },
  {
   "cell_type": "code",
   "execution_count": 7,
   "id": "7bc4974a-2183-44ce-bafc-0a81a4832511",
   "metadata": {},
   "outputs": [],
   "source": [
    "df_correct = load_data('correct_data.csv')"
   ]
  },
  {
   "cell_type": "code",
   "execution_count": 8,
   "id": "872255d4-e808-4acd-a2ff-a2e26ef17f22",
   "metadata": {},
   "outputs": [],
   "source": [
    "df_correct.drop(['Unnamed: 0'], axis=1, inplace=True)"
   ]
  },
  {
   "cell_type": "code",
   "execution_count": 9,
   "id": "b1ab5bc0-84ba-40b0-9342-b3e411edb9e2",
   "metadata": {},
   "outputs": [
    {
     "data": {
      "text/html": [
       "<div>\n",
       "<style scoped>\n",
       "    .dataframe tbody tr th:only-of-type {\n",
       "        vertical-align: middle;\n",
       "    }\n",
       "\n",
       "    .dataframe tbody tr th {\n",
       "        vertical-align: top;\n",
       "    }\n",
       "\n",
       "    .dataframe thead th {\n",
       "        text-align: right;\n",
       "    }\n",
       "</style>\n",
       "<table border=\"1\" class=\"dataframe\">\n",
       "  <thead>\n",
       "    <tr style=\"text-align: right;\">\n",
       "      <th></th>\n",
       "      <th>MA_TEMP</th>\n",
       "      <th>RA_TEMP</th>\n",
       "      <th>RF_WAT</th>\n",
       "    </tr>\n",
       "  </thead>\n",
       "  <tbody>\n",
       "    <tr>\n",
       "      <th>0</th>\n",
       "      <td>66.374680</td>\n",
       "      <td>68.34175</td>\n",
       "      <td>-2.617164e-13</td>\n",
       "    </tr>\n",
       "    <tr>\n",
       "      <th>1</th>\n",
       "      <td>66.374680</td>\n",
       "      <td>68.34786</td>\n",
       "      <td>-2.616267e-13</td>\n",
       "    </tr>\n",
       "    <tr>\n",
       "      <th>2</th>\n",
       "      <td>66.374680</td>\n",
       "      <td>68.35378</td>\n",
       "      <td>-2.615462e-13</td>\n",
       "    </tr>\n",
       "    <tr>\n",
       "      <th>3</th>\n",
       "      <td>66.374626</td>\n",
       "      <td>68.35948</td>\n",
       "      <td>-2.614546e-13</td>\n",
       "    </tr>\n",
       "    <tr>\n",
       "      <th>4</th>\n",
       "      <td>66.374626</td>\n",
       "      <td>68.36498</td>\n",
       "      <td>-2.613691e-13</td>\n",
       "    </tr>\n",
       "    <tr>\n",
       "      <th>...</th>\n",
       "      <td>...</td>\n",
       "      <td>...</td>\n",
       "      <td>...</td>\n",
       "    </tr>\n",
       "    <tr>\n",
       "      <th>525535</th>\n",
       "      <td>69.257660</td>\n",
       "      <td>64.08044</td>\n",
       "      <td>-8.024693e-18</td>\n",
       "    </tr>\n",
       "    <tr>\n",
       "      <th>525536</th>\n",
       "      <td>69.257660</td>\n",
       "      <td>64.07638</td>\n",
       "      <td>-8.061065e-18</td>\n",
       "    </tr>\n",
       "    <tr>\n",
       "      <th>525537</th>\n",
       "      <td>69.257660</td>\n",
       "      <td>64.07231</td>\n",
       "      <td>-8.029253e-18</td>\n",
       "    </tr>\n",
       "    <tr>\n",
       "      <th>525538</th>\n",
       "      <td>69.257660</td>\n",
       "      <td>64.06822</td>\n",
       "      <td>-8.062031e-18</td>\n",
       "    </tr>\n",
       "    <tr>\n",
       "      <th>525539</th>\n",
       "      <td>69.257660</td>\n",
       "      <td>64.06414</td>\n",
       "      <td>-8.083359e-18</td>\n",
       "    </tr>\n",
       "  </tbody>\n",
       "</table>\n",
       "<p>525540 rows × 3 columns</p>\n",
       "</div>"
      ],
      "text/plain": [
       "          MA_TEMP   RA_TEMP        RF_WAT\n",
       "0       66.374680  68.34175 -2.617164e-13\n",
       "1       66.374680  68.34786 -2.616267e-13\n",
       "2       66.374680  68.35378 -2.615462e-13\n",
       "3       66.374626  68.35948 -2.614546e-13\n",
       "4       66.374626  68.36498 -2.613691e-13\n",
       "...           ...       ...           ...\n",
       "525535  69.257660  64.08044 -8.024693e-18\n",
       "525536  69.257660  64.07638 -8.061065e-18\n",
       "525537  69.257660  64.07231 -8.029253e-18\n",
       "525538  69.257660  64.06822 -8.062031e-18\n",
       "525539  69.257660  64.06414 -8.083359e-18\n",
       "\n",
       "[525540 rows x 3 columns]"
      ]
     },
     "execution_count": 9,
     "metadata": {},
     "output_type": "execute_result"
    }
   ],
   "source": [
    "df_correct"
   ]
  },
  {
   "cell_type": "code",
   "execution_count": 10,
   "id": "4fbb7561-4ac4-4f64-a631-0855438162b3",
   "metadata": {},
   "outputs": [],
   "source": [
    "scaler_correct = StandardScaler().fit(df_correct.values)\n",
    "X_train = scaler_correct.transform(df_correct.values)"
   ]
  },
  {
   "cell_type": "code",
   "execution_count": 13,
   "id": "7699f15e-3ca4-4ce8-839b-e0e7ae4a553c",
   "metadata": {},
   "outputs": [
    {
     "data": {
      "text/html": [
       "<style>#sk-container-id-1 {color: black;background-color: white;}#sk-container-id-1 pre{padding: 0;}#sk-container-id-1 div.sk-toggleable {background-color: white;}#sk-container-id-1 label.sk-toggleable__label {cursor: pointer;display: block;width: 100%;margin-bottom: 0;padding: 0.3em;box-sizing: border-box;text-align: center;}#sk-container-id-1 label.sk-toggleable__label-arrow:before {content: \"▸\";float: left;margin-right: 0.25em;color: #696969;}#sk-container-id-1 label.sk-toggleable__label-arrow:hover:before {color: black;}#sk-container-id-1 div.sk-estimator:hover label.sk-toggleable__label-arrow:before {color: black;}#sk-container-id-1 div.sk-toggleable__content {max-height: 0;max-width: 0;overflow: hidden;text-align: left;background-color: #f0f8ff;}#sk-container-id-1 div.sk-toggleable__content pre {margin: 0.2em;color: black;border-radius: 0.25em;background-color: #f0f8ff;}#sk-container-id-1 input.sk-toggleable__control:checked~div.sk-toggleable__content {max-height: 200px;max-width: 100%;overflow: auto;}#sk-container-id-1 input.sk-toggleable__control:checked~label.sk-toggleable__label-arrow:before {content: \"▾\";}#sk-container-id-1 div.sk-estimator input.sk-toggleable__control:checked~label.sk-toggleable__label {background-color: #d4ebff;}#sk-container-id-1 div.sk-label input.sk-toggleable__control:checked~label.sk-toggleable__label {background-color: #d4ebff;}#sk-container-id-1 input.sk-hidden--visually {border: 0;clip: rect(1px 1px 1px 1px);clip: rect(1px, 1px, 1px, 1px);height: 1px;margin: -1px;overflow: hidden;padding: 0;position: absolute;width: 1px;}#sk-container-id-1 div.sk-estimator {font-family: monospace;background-color: #f0f8ff;border: 1px dotted black;border-radius: 0.25em;box-sizing: border-box;margin-bottom: 0.5em;}#sk-container-id-1 div.sk-estimator:hover {background-color: #d4ebff;}#sk-container-id-1 div.sk-parallel-item::after {content: \"\";width: 100%;border-bottom: 1px solid gray;flex-grow: 1;}#sk-container-id-1 div.sk-label:hover label.sk-toggleable__label {background-color: #d4ebff;}#sk-container-id-1 div.sk-serial::before {content: \"\";position: absolute;border-left: 1px solid gray;box-sizing: border-box;top: 0;bottom: 0;left: 50%;z-index: 0;}#sk-container-id-1 div.sk-serial {display: flex;flex-direction: column;align-items: center;background-color: white;padding-right: 0.2em;padding-left: 0.2em;position: relative;}#sk-container-id-1 div.sk-item {position: relative;z-index: 1;}#sk-container-id-1 div.sk-parallel {display: flex;align-items: stretch;justify-content: center;background-color: white;position: relative;}#sk-container-id-1 div.sk-item::before, #sk-container-id-1 div.sk-parallel-item::before {content: \"\";position: absolute;border-left: 1px solid gray;box-sizing: border-box;top: 0;bottom: 0;left: 50%;z-index: -1;}#sk-container-id-1 div.sk-parallel-item {display: flex;flex-direction: column;z-index: 1;position: relative;background-color: white;}#sk-container-id-1 div.sk-parallel-item:first-child::after {align-self: flex-end;width: 50%;}#sk-container-id-1 div.sk-parallel-item:last-child::after {align-self: flex-start;width: 50%;}#sk-container-id-1 div.sk-parallel-item:only-child::after {width: 0;}#sk-container-id-1 div.sk-dashed-wrapped {border: 1px dashed gray;margin: 0 0.4em 0.5em 0.4em;box-sizing: border-box;padding-bottom: 0.4em;background-color: white;}#sk-container-id-1 div.sk-label label {font-family: monospace;font-weight: bold;display: inline-block;line-height: 1.2em;}#sk-container-id-1 div.sk-label-container {text-align: center;}#sk-container-id-1 div.sk-container {/* jupyter's `normalize.less` sets `[hidden] { display: none; }` but bootstrap.min.css set `[hidden] { display: none !important; }` so we also need the `!important` here to be able to override the default hidden behavior on the sphinx rendered scikit-learn.org. See: https://github.com/scikit-learn/scikit-learn/issues/21755 */display: inline-block !important;position: relative;}#sk-container-id-1 div.sk-text-repr-fallback {display: none;}</style><div id=\"sk-container-id-1\" class=\"sk-top-container\"><div class=\"sk-text-repr-fallback\"><pre>OneClassSVM(nu=0.05)</pre><b>In a Jupyter environment, please rerun this cell to show the HTML representation or trust the notebook. <br />On GitHub, the HTML representation is unable to render, please try loading this page with nbviewer.org.</b></div><div class=\"sk-container\" hidden><div class=\"sk-item\"><div class=\"sk-estimator sk-toggleable\"><input class=\"sk-toggleable__control sk-hidden--visually\" id=\"sk-estimator-id-1\" type=\"checkbox\" checked><label for=\"sk-estimator-id-1\" class=\"sk-toggleable__label sk-toggleable__label-arrow\">OneClassSVM</label><div class=\"sk-toggleable__content\"><pre>OneClassSVM(nu=0.05)</pre></div></div></div></div></div>"
      ],
      "text/plain": [
       "OneClassSVM(nu=0.05)"
      ]
     },
     "execution_count": 13,
     "metadata": {},
     "output_type": "execute_result"
    }
   ],
   "source": [
    "one_class_svm_model = OneClassSVM(nu=0.05)  # Adjust the nu parameter based on your data\n",
    "one_class_svm_model.fit(X_train)"
   ]
  },
  {
   "cell_type": "code",
   "execution_count": 14,
   "id": "2b079134-3044-4023-8775-3ce8d87d8085",
   "metadata": {},
   "outputs": [],
   "source": [
    "df_damper_stuck_010 = load_data('damper_stuck_010_annual.csv')"
   ]
  },
  {
   "cell_type": "code",
   "execution_count": 15,
   "id": "ffa7394d-d573-40f6-961c-4129f9dd0e15",
   "metadata": {},
   "outputs": [],
   "source": [
    "features = list(df_correct.keys())"
   ]
  },
  {
   "cell_type": "code",
   "execution_count": 16,
   "id": "d5c66215-0ce2-434d-9bb9-0d3abc2cbbbe",
   "metadata": {},
   "outputs": [
    {
     "data": {
      "text/plain": [
       "['MA_TEMP', 'RA_TEMP', 'RF_WAT']"
      ]
     },
     "execution_count": 16,
     "metadata": {},
     "output_type": "execute_result"
    }
   ],
   "source": [
    "features"
   ]
  },
  {
   "cell_type": "code",
   "execution_count": 17,
   "id": "6769fddf-1c7d-4715-b795-986f2084c26e",
   "metadata": {},
   "outputs": [],
   "source": [
    "predictions = one_class_svm_model.predict(scaler_correct.transform(df_damper_stuck_010[features].values))"
   ]
  },
  {
   "cell_type": "code",
   "execution_count": 18,
   "id": "5b777fcd-1ee6-4448-87d8-993b1bf47426",
   "metadata": {},
   "outputs": [
    {
     "data": {
      "text/plain": [
       "array([1, 1, 1, ..., 1, 1, 1], dtype=int64)"
      ]
     },
     "execution_count": 18,
     "metadata": {},
     "output_type": "execute_result"
    }
   ],
   "source": [
    "predictions"
   ]
  },
  {
   "cell_type": "code",
   "execution_count": 21,
   "id": "a0cedfa5-6513-4107-82ca-81969320d576",
   "metadata": {},
   "outputs": [],
   "source": [
    "predictions[predictions == 1] = 0\n",
    "predictions[predictions == -1] = 1"
   ]
  },
  {
   "cell_type": "code",
   "execution_count": 19,
   "id": "b978a47f-6b65-4b37-84d6-dee1a9f3c6a5",
   "metadata": {},
   "outputs": [],
   "source": [
    "y_true = [1]*len(df_damper_stuck_010)"
   ]
  },
  {
   "cell_type": "code",
   "execution_count": 20,
   "id": "0684bfb0-f66b-48f7-a61a-67c94f76c5b0",
   "metadata": {},
   "outputs": [],
   "source": [
    "def evaluate_model(y_true, y_pred, name=None):\n",
    "    tn, fp, fn, tp = confusion_matrix(y_true, y_pred).ravel()\n",
    "    print('True Positive:', tp)\n",
    "    print('True Negatives:', tn)\n",
    "    print('False Positive:', fp)\n",
    "    print('False Negatives:', fn)\n",
    "\n",
    "    precision = tp / (tp+fp)\n",
    "    recall = tp / (tp+fn)\n",
    "    f1 = (2 * precision * recall) / (precision + recall)\n",
    "    accuracy = (tp + tn) / (tp + tn + fp + fn)\n",
    "    print('Precision:', precision)\n",
    "    print('Recall:', recall)\n",
    "    print('F1:', f1)\n",
    "    print('Accuracy:', accuracy)\n",
    "    "
   ]
  },
  {
   "cell_type": "code",
   "execution_count": 22,
   "id": "d7dc3535-db72-46ed-bc45-aa0bbce9ac57",
   "metadata": {},
   "outputs": [
    {
     "name": "stdout",
     "output_type": "stream",
     "text": [
      "True Positive: 24464\n",
      "True Negatives: 0\n",
      "False Positive: 0\n",
      "False Negatives: 501076\n",
      "Precision: 1.0\n",
      "Recall: 0.04655021501693496\n",
      "F1: 0.0889593530228871\n",
      "Accuracy: 0.04655021501693496\n"
     ]
    }
   ],
   "source": [
    "evaluate_model(y_true, predictions)"
   ]
  },
  {
   "cell_type": "code",
   "execution_count": null,
   "id": "011c5cb8-cb4c-4b5a-9388-4ec5f023e72d",
   "metadata": {},
   "outputs": [],
   "source": []
  },
  {
   "cell_type": "code",
   "execution_count": null,
   "id": "332fb739-07c3-4ec3-9b7d-e531bf4355bb",
   "metadata": {},
   "outputs": [],
   "source": []
  }
 ],
 "metadata": {
  "kernelspec": {
   "display_name": "Python 3 (ipykernel)",
   "language": "python",
   "name": "python3"
  },
  "language_info": {
   "codemirror_mode": {
    "name": "ipython",
    "version": 3
   },
   "file_extension": ".py",
   "mimetype": "text/x-python",
   "name": "python",
   "nbconvert_exporter": "python",
   "pygments_lexer": "ipython3",
   "version": "3.11.7"
  }
 },
 "nbformat": 4,
 "nbformat_minor": 5
}
