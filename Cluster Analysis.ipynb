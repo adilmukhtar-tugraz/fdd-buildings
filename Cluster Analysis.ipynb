{
 "cells": [
  {
   "cell_type": "code",
   "execution_count": 1,
   "id": "73a8d6bb-fa37-4352-9317-e0a3ea07923d",
   "metadata": {},
   "outputs": [],
   "source": [
    "import pandas as pd\n",
    "import numpy as np\n",
    "from matplotlib import pyplot as plt\n",
    "import os\n",
    "import warnings\n",
    "warnings.filterwarnings(\"ignore\")\n",
    "from collections import Counter\n",
    "from sklearn.preprocessing import StandardScaler, MinMaxScaler, PowerTransformer\n",
    "import json \n",
    "base_dir = 'results\\\\hold_out_set_and_predicted_faults\\\\'\n",
    "import pickle\n",
    "from sklearn.metrics import precision_recall_curve, auc,confusion_matrix\n",
    "import json\n",
    "import joblib\n",
    "from sklearn.decomposition import PCA\n",
    "from mpl_toolkits.mplot3d import Axes3D  # for 3D scatter plot"
   ]
  },
  {
   "cell_type": "code",
   "execution_count": 2,
   "id": "07bfbf4f-325a-47a3-bdec-838e2c89ab15",
   "metadata": {},
   "outputs": [],
   "source": [
    "def load_data(file_name):\n",
    "    df = pd.read_csv(base_dir+file_name, index_col='Datetime')\n",
    "    df.index = pd.to_datetime(df.index, format='%Y-%m-%d %H:%M:%S')\n",
    "    return df\n",
    "import numpy as np\n",
    "import matplotlib.pyplot as plt\n",
    "from sklearn.cluster import KMeans\n",
    "from sklearn.metrics import silhouette_score\n",
    "\n",
    "def plot_elbow_silhouette(X, max_clusters=10, subsample_size=None):\n",
    "    \"\"\"\n",
    "    Plots the elbow method and silhouette score for selecting the number of clusters for k-means clustering.\n",
    "\n",
    "    Parameters:\n",
    "    - X: Input data (numpy array or pandas DataFrame)\n",
    "    - max_clusters: Maximum number of clusters to consider (default is 10)\n",
    "    - subsample_size: Size of the subsample for silhouette score calculation (default is None, meaning no subsampling)\n",
    "    \"\"\"\n",
    "    # Elbow Method\n",
    "    distortions = []\n",
    "    for i in range(1, max_clusters + 1):\n",
    "        kmeans = KMeans(n_clusters=i, random_state=42)\n",
    "        kmeans.fit(X)\n",
    "        distortions.append(kmeans.inertia_)\n",
    "\n",
    "    # Silhouette Score\n",
    "    silhouette_scores = []\n",
    "    if subsample_size is not None and subsample_size < len(X):\n",
    "        indices = np.random.choice(len(X), size=subsample_size, replace=False)\n",
    "        X_subsample = X[indices]\n",
    "    else:\n",
    "        X_subsample = X\n",
    "\n",
    "    for i in range(2, max_clusters + 1):\n",
    "        kmeans = KMeans(n_clusters=i, random_state=42)\n",
    "        cluster_labels = kmeans.fit_predict(X_subsample)\n",
    "        silhouette_scores.append(silhouette_score(X_subsample, cluster_labels))\n",
    "    optimal_clusters = np.argmax(silhouette_scores) + 2\n",
    "    print(f\"The optimal number of based on Silhouette score clusters is: {optimal_clusters}\")\n",
    "    # Plot Elbow Method\n",
    "    plt.figure(figsize=(12, 6))\n",
    "    plt.subplot(1, 2, 1)\n",
    "    plt.plot(range(1, max_clusters + 1), distortions, marker='o')\n",
    "    plt.title('Elbow Method for Optimal k')\n",
    "    plt.xlabel('Number of Clusters')\n",
    "    plt.ylabel('Distortion')\n",
    "\n",
    "    # Plot Silhouette Score\n",
    "    plt.subplot(1, 2, 2)\n",
    "    plt.plot(range(2, max_clusters + 1), silhouette_scores, marker='o')\n",
    "    plt.title('Silhouette Score for Optimal k')\n",
    "    plt.xlabel('Number of Clusters')\n",
    "    plt.ylabel('Silhouette Score')\n",
    "\n",
    "    plt.tight_layout()\n",
    "    plt.show()\n",
    "\n",
    "from sklearn.metrics import silhouette_score\n",
    "\n",
    "def train_and_fine_tune_kmeans(data, num_clusters, max_iterations=300, random_state=42):\n",
    "    \"\"\"\n",
    "    Train and fine-tune a KMeans model with a specified number of clusters.\n",
    "\n",
    "    Parameters:\n",
    "    - data: array-like\n",
    "        The training data for clustering.\n",
    "    - num_clusters: int\n",
    "        The number of clusters to create.\n",
    "    - max_iterations: int, optional (default=300)\n",
    "        Maximum number of iterations for the KMeans algorithm.\n",
    "    - random_state: int, optional (default=42)\n",
    "        Random seed for reproducibility.\n",
    "\n",
    "    Returns:\n",
    "    - trained_kmeans: KMeans\n",
    "        The trained KMeans model.\n",
    "    \"\"\"\n",
    "\n",
    "    # Initialize KMeans model with the specified number of clusters\n",
    "    kmeans = KMeans(n_clusters=num_clusters, max_iter=max_iterations, random_state=random_state)\n",
    "\n",
    "    # Fit the KMeans model to the training data\n",
    "    kmeans.fit(data)\n",
    "\n",
    "    # Fine-tune the model based on silhouette score\n",
    "    silhouette_scores = []\n",
    "    for n_clusters in range(2, num_clusters + 1):\n",
    "        kmeans_temp = KMeans(n_clusters=n_clusters, max_iter=max_iterations, random_state=random_state)\n",
    "        labels = kmeans_temp.fit_predict(data)\n",
    "        silhouette_scores.append(silhouette_score(data, labels))\n",
    "\n",
    "    # Choose the number of clusters with the highest silhouette score\n",
    "    optimal_num_clusters = np.argmax(silhouette_scores) + 2  # Add 2 because the loop starts from 2\n",
    "\n",
    "    # Train the final KMeans model with the optimal number of clusters\n",
    "    trained_kmeans = KMeans(n_clusters=optimal_num_clusters, max_iter=max_iterations, random_state=random_state)\n",
    "    trained_kmeans.fit(data)\n",
    "\n",
    "    print(f\"Optimal Number of Clusters: {optimal_num_clusters}\")\n",
    "\n",
    "    return trained_kmeans\n",
    "\n",
    "from sklearn.cluster import DBSCAN\n",
    "\n",
    "def tune_dbscan(X):\n",
    "    # Standardize the data\n",
    "    X_standardized = MinMaxScaler().fit_transform(X)\n",
    "    \n",
    "    # Define a range of hyperparameter values for epsilon and min_samples\n",
    "    epsilon_values = np.arange(0.1, 1.0, 0.1)\n",
    "    min_samples_values = range(2, 10)\n",
    "    \n",
    "    best_silhouette_score = -1\n",
    "    best_dbscan = None\n",
    "    \n",
    "    for epsilon in epsilon_values:\n",
    "        for min_samples in min_samples_values:\n",
    "            dbscan = DBSCAN(eps=epsilon, min_samples=min_samples)\n",
    "            labels = dbscan.fit_predict(X_standardized)\n",
    "            \n",
    "            # Check if the number of clusters found is reasonable\n",
    "            unique_labels = np.unique(labels)\n",
    "            if len(unique_labels) > 1:\n",
    "                silhouette_avg = silhouette_score(X_standardized, labels)\n",
    "                print(f\"Epsilon: {epsilon:.2f}, Min Samples: {min_samples}, Silhouette Score: {silhouette_avg:.4f}\")\n",
    "                \n",
    "                # Update the best model if the silhouette score is higher\n",
    "                if silhouette_avg > best_silhouette_score:\n",
    "                    best_silhouette_score = silhouette_avg\n",
    "                    best_dbscan = dbscan\n",
    "    \n",
    "    print(f\"Best Silhouette Score: {best_silhouette_score:.4f}\")\n",
    "    return best_dbscan\n",
    "\n",
    "\n",
    "def visualize_clusters(X, cluster_labels, method='scatter', n_clusters=3):\n",
    "    \"\"\"\n",
    "    Visualizes the distribution of clusters using different methods.\n",
    "\n",
    "    Parameters:\n",
    "    - X: Input data (numpy array or pandas DataFrame)\n",
    "    - cluster_labels: Cluster labels assigned by KMeans\n",
    "    - method: Method for visualization ('scatter', 'scatter_3d', 'centroids')\n",
    "    - n_clusters: Number of clusters for KMeans (default is 3)\n",
    "    \"\"\"\n",
    "    if method == 'scatter':\n",
    "        # Scatter plot for 2D visualization\n",
    "        plt.figure(figsize=(10, 6))\n",
    "        scatter = plt.scatter(X[:, 0], X[:, 1], c=cluster_labels, cmap='viridis', edgecolors='k', s=50)\n",
    "        plt.title(f'KMeans Clustering (k={n_clusters}) - Cluster Distribution')\n",
    "        plt.xlabel('Feature 1')\n",
    "        plt.ylabel('Feature 2')\n",
    "        plt.colorbar(scatter, label='Cluster')\n",
    "        plt.show()\n",
    "    elif method == 'scatter_3d':\n",
    "        # 3D Scatter plot for 3D visualization\n",
    "        if X.shape[1] < 3:\n",
    "            raise ValueError(\"Data should have at least 3 features for 3D scatter plot.\")\n",
    "        fig = plt.figure(figsize=(12, 8))\n",
    "        ax = fig.add_subplot(111, projection='3d')\n",
    "        scatter = ax.scatter(X[:, 0], X[:, 1], X[:, 2], c=cluster_labels, cmap='viridis', edgecolors='k', s=50)\n",
    "        ax.set_title(f'KMeans Clustering (k={n_clusters}) - 3D Cluster Distribution')\n",
    "        ax.set_xlabel('Feature 1')\n",
    "        ax.set_ylabel('Feature 2')\n",
    "        ax.set_zlabel('Feature 3')\n",
    "        fig.colorbar(scatter, label='Cluster')\n",
    "        plt.show()\n",
    "    else:\n",
    "        raise ValueError(\"Invalid visualization method. Choose from 'scatter', 'scatter_3d', or 'centroids'.\")\n",
    "\n",
    "def visualize_dbscan(X, model, visualization_method='scatter'):\n",
    "    \"\"\"\n",
    "    Trains the KMeans algorithm for the given number of clusters and visualizes the distribution of clusters.\n",
    "\n",
    "    Parameters:\n",
    "    - X: Input data (numpy array or pandas DataFrame)\n",
    "    - n_clusters: Number of clusters for KMeans (default is 3)\n",
    "    - visualization_method: Method for visualization ('scatter', 'scatter_3d', 'centroids')\n",
    "    \"\"\"\n",
    "    # Standardize the data\n",
    "    scaler = MinMaxScaler()\n",
    "    X_standardized = scaler.fit_transform(X)\n",
    "\n",
    "    labels = model.fit_predict(X_standardized)\n",
    "    n_clusters = len(set(labels))\n",
    "    # Apply PCA for dimensionality reduction\n",
    "    pca = PCA(n_components=min(3, X.shape[1]))\n",
    "    reduced_data = pca.fit_transform(X)\n",
    "\n",
    "    # Visualize clusters\n",
    "    visualize_clusters(reduced_data, labels, method=visualization_method, n_clusters=n_clusters)\n",
    "    \n",
    "    return labels, scaler"
   ]
  },
  {
   "cell_type": "code",
   "execution_count": 6,
   "id": "04e409ff-f76f-49f0-b4d8-8310849da7ce",
   "metadata": {},
   "outputs": [
    {
     "name": "stdout",
     "output_type": "stream",
     "text": [
      "coi_bias_-2_annual.csv\n",
      "coi_bias_-4_annual.csv\n",
      "coi_bias_2_annual.csv\n",
      "coi_bias_4_annual.csv\n",
      "coi_leakage_010_annual.csv\n",
      "coi_leakage_025_annual.csv\n",
      "coi_leakage_040_annual.csv\n",
      "coi_leakage_050_annual.csv\n",
      "coi_stuck_010_annual.csv\n",
      "coi_stuck_025_annual.csv\n",
      "coi_stuck_050_annual.csv\n",
      "coi_stuck_075_annual.csv\n",
      "damper_stuck_010_annual.csv\n",
      "damper_stuck_025_annual.csv\n",
      "damper_stuck_075_annual.csv\n",
      "damper_stuck_100_annual_short.csv\n",
      "oa_bias_-2_annual.csv\n",
      "oa_bias_-4_annual.csv\n",
      "oa_bias_2_annual.csv\n",
      "oa_bias_4_annual.csv\n"
     ]
    }
   ],
   "source": [
    "\n",
    "test_start_date = '2018-10-01 00:00:00'\n",
    "test_end_date = '2018-11-30 23:59:00'\n",
    "\n",
    "resampling_freq = '5T'\n",
    "df_faulty = pd.DataFrame()\n",
    "base_dir = 'dataset\\\\LBNL_FDD_Dataset_SDAHU\\\\'\n",
    "for c, file in enumerate(os.listdir(base_dir)):\n",
    "    if c>0: # to load only faulty files, i.e., excluding AHU_annual.csv\n",
    "        print(file)\n",
    "        df_temp = load_data(file)\n",
    "        df_temp = df_temp[test_start_date : test_end_date]\n",
    "        df_temp_resampled = df_temp.resample(resampling_freq).mean()\n",
    "        df_faulty = pd.concat([df_faulty, df_temp_resampled])"
   ]
  },
  {
   "cell_type": "code",
   "execution_count": 10,
   "id": "d1501137-124e-4b02-9e8c-5d1eec9e7904",
   "metadata": {},
   "outputs": [
    {
     "data": {
      "text/plain": [
       "(342721, 30)"
      ]
     },
     "execution_count": 10,
     "metadata": {},
     "output_type": "execute_result"
    }
   ],
   "source": [
    "df_faulty.shape"
   ]
  },
  {
   "cell_type": "code",
   "execution_count": 9,
   "id": "0cd748cc-89db-41f2-bd5f-73c8b21fa3d3",
   "metadata": {},
   "outputs": [
    {
     "name": "stdout",
     "output_type": "stream",
     "text": [
      "The optimal number of based on Silhouette score clusters is: 2\n"
     ]
    },
    {
     "data": {
      "image/png": "[encoded data removed]",
      "text/plain": [
       "<Figure size 1200x600 with 2 Axes>"
      ]
     },
     "metadata": {},
     "output_type": "display_data"
    }
   ],
   "source": [
    "plot_elbow_silhouette(X = df_faulty.values, subsample_size=10000) "
   ]
  },
  {
   "cell_type": "code",
   "execution_count": null,
   "id": "3ff78779-89d1-43ef-b192-a9666e68d53a",
   "metadata": {
    "scrolled": true
   },
   "outputs": [],
   "source": [
    "model_dbscan = tune_dbscan(df_faulty.values)"
   ]
  },
  {
   "cell_type": "code",
   "execution_count": null,
   "id": "f8ec1f04-d466-4ee4-ae2c-e0af739cc1b8",
   "metadata": {},
   "outputs": [],
   "source": [
    "model_dbscan"
   ]
  },
  {
   "cell_type": "code",
   "execution_count": null,
   "id": "523301b3-8bbc-49ef-bf3f-bb3786a121b5",
   "metadata": {},
   "outputs": [],
   "source": [
    "cluster_labels, dbscan_min_max_scaler = visualize_dbscan(df_faulty.values, model_dbscan, visualization_method='scatter_3d')"
   ]
  },
  {
   "cell_type": "code",
   "execution_count": null,
   "id": "cd9aeabd-d5fe-493f-819b-77fd2c8c8a74",
   "metadata": {},
   "outputs": [],
   "source": [
    "joblib.dump(model_dbscan, 'models/dbscan.joblib')"
   ]
  },
  {
   "cell_type": "code",
   "execution_count": null,
   "id": "641a5121-cce2-4c21-b2c8-1de544261372",
   "metadata": {},
   "outputs": [],
   "source": [
    "np.save('models/cluster_labels.npy', cluster_labels)"
   ]
  },
  {
   "cell_type": "code",
   "execution_count": null,
   "id": "f12d7b17-eda3-41e7-a755-44d2900f22d6",
   "metadata": {},
   "outputs": [],
   "source": [
    "joblib.dump(dbscan_min_max_scaler, 'models/dbscan_minmax_scaler.joblib')"
   ]
  },
  {
   "cell_type": "code",
   "execution_count": null,
   "id": "4934e324-ff85-413d-9b80-62efde27b98e",
   "metadata": {},
   "outputs": [],
   "source": [
    "cluster_labels.shape"
   ]
  },
  {
   "cell_type": "code",
   "execution_count": null,
   "id": "f9e8bd4c-ee9e-4c72-96f0-5baa5be81f97",
   "metadata": {},
   "outputs": [],
   "source": [
    "df_faulty.to_csv('results/faulty_data_predicted_elliptic_last_two_months.csv')"
   ]
  },
  {
   "cell_type": "code",
   "execution_count": null,
   "id": "ba7216c5-3437-44ce-983d-b3f06acb4393",
   "metadata": {},
   "outputs": [],
   "source": []
  }
 ],
 "metadata": {
  "kernelspec": {
   "display_name": "Python 3 (ipykernel)",
   "language": "python",
   "name": "python3"
  },
  "language_info": {
   "codemirror_mode": {
    "name": "ipython",
    "version": 3
   },
   "file_extension": ".py",
   "mimetype": "text/x-python",
   "name": "python",
   "nbconvert_exporter": "python",
   "pygments_lexer": "ipython3",
   "version": "3.10.13"
  }
 },
 "nbformat": 4,
 "nbformat_minor": 5
}
